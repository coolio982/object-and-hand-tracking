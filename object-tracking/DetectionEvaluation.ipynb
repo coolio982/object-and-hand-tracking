{
 "cells": [
  {
   "cell_type": "code",
   "execution_count": 1,
   "metadata": {},
   "outputs": [],
   "source": [
    "%matplotlib inline\n",
    "\n",
    "import cv2\n",
    "import time\n",
    "import numpy as np\n",
    "import csv\n",
    "import os\n",
    "import imutils\n",
    "from matplotlib import pyplot as plt"
   ]
  },
  {
   "cell_type": "code",
   "execution_count": 4,
   "metadata": {},
   "outputs": [
    {
     "name": "stdout",
     "output_type": "stream",
     "text": [
      "[('frame_1686210461.jpg', ('307', '141')), ('frame_1686210465.jpg', ('391', '162')), ('frame_1686210469.jpg', ('467', '196')), ('frame_1686210472.jpg', ('257', '283')), ('frame_1686210478.jpg', ('351', '287')), ('frame_1686210483.jpg', ('437', '301')), ('frame_1686210486.jpg', ('511', '306')), ('frame_1686210490.jpg', ('261', '334')), ('frame_1686210494.jpg', ('344', '341')), ('frame_1686210497.jpg', ('483', '355'))]\n"
     ]
    }
   ],
   "source": [
    "# load image data\n",
    "folder_path = 'Images/DepthImage'\n",
    "file_prefix = 'frame_'\n",
    "\n",
    "# Get a list of all files in the folder\n",
    "files = os.listdir(folder_path)\n",
    "\n",
    "# Filter the list to only include files with the desired prefix\n",
    "matching_files = [f for f in files if f.startswith(file_prefix)]\n",
    "\n",
    "\n",
    "# load ground truth data\n",
    "csv_path = './Images/groundTruth.csv'\n",
    "\n",
    "# Open the CSV file and read its contents into a list of tuples\n",
    "with open(csv_path, 'r') as csvfile:\n",
    "    reader = csv.reader(csvfile)\n",
    "    centres = [tuple(row) for row in reader]\n",
    "\n",
    "\n",
    "zipped = list(zip(matching_files, centres))\n",
    "print(zipped)"
   ]
  },
  {
   "cell_type": "code",
   "execution_count": 5,
   "metadata": {},
   "outputs": [],
   "source": [
    "def houghTransform(img_path):\n",
    "    img = cv2.imread(img_path, cv2.IMREAD_GRAYSCALE)\n",
    "    maskDataRGB = cv2.cvtColor(img, cv2.COLOR_GRAY2RGB)\n",
    "    blurredCircles = cv2.GaussianBlur(img, (5, 5), 0)\n",
    "    thresholdCircles = cv2.inRange(\n",
    "            blurredCircles, 15, 25)\n",
    "    # plt.imshow(thresholdCircles)\n",
    "    # Perform Hough Transform for circles\n",
    "    circles = cv2.HoughCircles(\n",
    "            thresholdCircles, cv2.HOUGH_GRADIENT, 2, minDist=700, param1=50, param2=30, minRadius=10, maxRadius=30)\n",
    "    if not circles.any():\n",
    "        return []\n",
    "    # Round the x,y coordinates and radius to integers\n",
    "    circles = np.round(circles[0, :]).astype(\"int\")\n",
    "    # Calculate centroids using Hough Transform\n",
    "    centroids_hough = [(x, y) for (x, y, r) in circles]\n",
    "    for center in centroids_hough:\n",
    "        cv2.circle(maskDataRGB, center, 5, (0, 0, 255), -1)\n",
    "        cv2.circle(maskDataRGB, center, 30, (0, 0, 255), 2)\n",
    "    plt.imshow(maskDataRGB)\n",
    "    return centroids_hough\n",
    "    "
   ]
  },
  {
   "cell_type": "code",
   "execution_count": 6,
   "metadata": {},
   "outputs": [],
   "source": [
    "def blobDetection(img_path):\n",
    "    # Read the image in grayscale\n",
    "    img = cv2.imread(img_path, cv2.IMREAD_GRAYSCALE)\n",
    "\n",
    "    # Create a blob detector\n",
    "    params = cv2.SimpleBlobDetector_Params()\n",
    "\n",
    "    # Set parameters for the blob detection\n",
    "    params.minThreshold = 10\n",
    "    params.maxThreshold = 100\n",
    "    params.filterByCircularity = False\n",
    "    params.filterByConvexity = False\n",
    "    params.filterByInertia = False\n",
    "    params.filterByArea = True\n",
    "    params.minArea = 100\n",
    "    params.maxArea = 10000\n",
    "\n",
    "    # Create a blob detector with the specified parameters\n",
    "    detector = cv2.SimpleBlobDetector_create(params)\n",
    "\n",
    "    # Detect blobs in the image\n",
    "    keypoints = detector.detect(img)\n",
    "\n",
    "    # Create an RGB image for visualization\n",
    "    maskDataRGB = cv2.cvtColor(img, cv2.COLOR_GRAY2RGB)\n",
    "\n",
    "    # Draw circles around the detected blobs\n",
    "    for keypoint in keypoints:\n",
    "        x, y = np.round(keypoint.pt).astype(int)\n",
    "        cv2.circle(maskDataRGB, (x, y), 5, (0, 0, 255), -1)\n",
    "        cv2.circle(maskDataRGB, (x, y), 30, (0, 0, 255), 2)\n",
    "    # Extract centroids from keypoints\n",
    "    centroids_blob = [(int(keypoint.pt[0]), int(keypoint.pt[1])) for keypoint in keypoints]\n",
    "\n",
    "    return centroids_blob\n"
   ]
  },
  {
   "cell_type": "code",
   "execution_count": 7,
   "metadata": {},
   "outputs": [],
   "source": [
    "def contourDetection(img_path):\n",
    "    img = cv2.imread(img_path, cv2.IMREAD_GRAYSCALE)\n",
    "    blurredCircles = cv2.GaussianBlur(img, (5, 5), 0)\n",
    "    thresholdCircles = cv2.inRange(\n",
    "            blurredCircles, 15, 25)\n",
    "    # find contours \n",
    "    contoursObject = cv2.findContours(thresholdCircles, cv2.RETR_EXTERNAL,\n",
    "        cv2.CHAIN_APPROX_SIMPLE)\n",
    "\n",
    "    contoursObject = imutils.grab_contours(contoursObject)\n",
    "\n",
    "    maskDataRGB = cv2.cvtColor(img, cv2.COLOR_GRAY2RGB)\n",
    "    centres = []\n",
    "    # remove contours that are the wrong size\n",
    "    for i in range(len(contoursObject)-1, -1, -1):\n",
    "        ((x, y), radius) = cv2.minEnclosingCircle(\n",
    "            contoursObject[i])\n",
    "        if radius < 15:\n",
    "            del contoursObject[i]\n",
    "        else:\n",
    "            M = cv2.moments(contoursObject[i])\n",
    "            centre = (int(M[\"m10\"] / M[\"m00\"]),\n",
    "                        int(M[\"m01\"] / M[\"m00\"]))\n",
    "            centres.append(centre)\n",
    "            # draw the contours we are interested in\n",
    "            cv2.circle(maskDataRGB, (int(x), int(y)), int(radius),\n",
    "                    (0, 255, 255), 2)\n",
    "            cv2.circle(maskDataRGB, centre, 5, (0, 0, 255), -1)\n",
    "        \n",
    "    # plt.imshow(maskDataRGB)\n",
    "    return centres"
   ]
  },
  {
   "cell_type": "code",
   "execution_count": 8,
   "metadata": {},
   "outputs": [],
   "source": [
    "def improvedContours(img_path):\n",
    "    # obtain the filtered circles\n",
    "    filteredData = cv2.imread(img_path, cv2.IMREAD_GRAYSCALE)\n",
    "    blurredCircles = cv2.GaussianBlur(filteredData, (5, 5), 0)\n",
    "    thresholdCircles = cv2.inRange(\n",
    "            blurredCircles, 15, 25)\n",
    "    # perform dilations and erosions to remove small blobs left in the mask\n",
    "    maskCircles = cv2.erode(\n",
    "        thresholdCircles, None, iterations=2)\n",
    "\n",
    "    # find contours in the mask and initialize the current\n",
    "    # (x, y) centre of the ball\n",
    "    contoursObject = cv2.findContours(maskCircles.copy(), cv2.RETR_EXTERNAL,\n",
    "        cv2.CHAIN_APPROX_SIMPLE)\n",
    "    contoursObject = imutils.grab_contours(contoursObject)\n",
    "\n",
    "    maskDataRGB = cv2.cvtColor(maskCircles, cv2.COLOR_GRAY2RGB)\n",
    "    centres = []\n",
    "    # remove contours that are the wrong size\n",
    "    for i in range(len(contoursObject)-1, -1, -1):\n",
    "        ((x, y), radius) = cv2.minEnclosingCircle(\n",
    "            contoursObject[i])\n",
    "        if radius < 15  or radius > 20:\n",
    "            del contoursObject[i]\n",
    "        else:\n",
    "            M = cv2.moments(contoursObject[i])\n",
    "            centre = (int(M[\"m10\"] / M[\"m00\"]),\n",
    "                        int(M[\"m01\"] / M[\"m00\"]))\n",
    "            centres.append(centre)\n",
    "            # draw the contours we are interested in\n",
    "            cv2.circle(maskDataRGB, (int(x), int(y)), int(radius),\n",
    "                    (0, 255, 255), 2)\n",
    "            cv2.circle(maskDataRGB, centre, 5, (0, 0, 255), -1)\n",
    "    # plt.imshow(maskDataRGB)\n",
    "    return centres"
   ]
  },
  {
   "cell_type": "code",
   "execution_count": 9,
   "metadata": {},
   "outputs": [],
   "source": [
    "def evaluate(zipped, prefix):\n",
    "    mse_hough_total = 0\n",
    "    hough_time = 0\n",
    "    mse_moments_total = 0\n",
    "    moments_time = 0\n",
    "    mse_improved_moments_total = 0\n",
    "    improved_moments_time = 0\n",
    "    num_items = len(zipped)\n",
    "    for img_details in zipped:\n",
    "        img_path = prefix+img_details[0]\n",
    "        ground_truth = np.array([int(x) for x in img_details[1]])\n",
    "        # Calculate centroids\n",
    "        start_time = time.time()\n",
    "        centroids_hough = houghTransform(img_path)\n",
    "        hough_time+=(time.time() - start_time)\n",
    "        start_time = time.time()\n",
    "        centroids_moments = contourDetection(img_path)\n",
    "        moments_time+=(time.time() - start_time)\n",
    "        start_time = time.time()\n",
    "        centroids_improved_moments = improvedContours(img_path)\n",
    "        improved_moments_time+=(time.time() - start_time)\n",
    "        # Compute the mean squared error between the two methods\n",
    "        mse_hough = np.mean(np.square(np.array(centroids_hough) - ground_truth))\n",
    "        mse_moments = np.mean(np.square(np.array(centroids_moments) - ground_truth))\n",
    "        mse_improved_moments= np.mean(np.square(np.array(centroids_improved_moments) - ground_truth))\n",
    "\n",
    "        mse_hough_total+=mse_hough\n",
    "        mse_moments_total+=mse_moments\n",
    "        mse_improved_moments_total+=mse_improved_moments\n",
    "        \n",
    "    hough_time /= num_items\n",
    "    moments_time /= num_items\n",
    "    improved_moments_time /= num_items\n",
    "    mse_hough_total /= num_items\n",
    "    mse_moments_total /= num_items\n",
    "    mse_improved_moments_total /= num_items\n",
    "\n",
    "    print(\"Evaluation metrics: \")\n",
    "    print(\"Hough: \", mse_hough_total, \"px in \", hough_time, \"s\")\n",
    "    print(\"Moments: \", mse_moments_total, \"px in \", moments_time, \"s\")\n",
    "    print(\"Improved Moments: \", mse_improved_moments_total, \"px in \", improved_moments_time, \"s\")"
   ]
  },
  {
   "cell_type": "code",
   "execution_count": 10,
   "metadata": {},
   "outputs": [
    {
     "name": "stdout",
     "output_type": "stream",
     "text": [
      "Evaluation metrics: \n",
      "Hough:  26071.25 px in  0.015631866455078126 s\n",
      "Moments:  33872.191666666666 px in  0.004710340499877929 s\n",
      "Improved Moments:  5932.95 px in  0.0034954071044921873 s\n"
     ]
    },
    {
     "data": {
      "image/png": "[encoded data removed]",
      "text/plain": [
       "<Figure size 432x288 with 1 Axes>"
      ]
     },
     "metadata": {
      "needs_background": "light"
     },
     "output_type": "display_data"
    }
   ],
   "source": [
    "evaluate(zipped, \"Images/DepthImage/\")"
   ]
  }
 ],
 "metadata": {
  "kernelspec": {
   "display_name": "Python 3",
   "language": "python",
   "name": "python3"
  },
  "language_info": {
   "codemirror_mode": {
    "name": "ipython",
    "version": 3
   },
   "file_extension": ".py",
   "mimetype": "text/x-python",
   "name": "python",
   "nbconvert_exporter": "python",
   "pygments_lexer": "ipython3",
   "version": "3.8.5"
  },
  "orig_nbformat": 4
 },
 "nbformat": 4,
 "nbformat_minor": 2
}
